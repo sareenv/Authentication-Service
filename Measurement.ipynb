{
  "cells": [
    {
      "cell_type": "markdown",
      "metadata": {
        "id": "view-in-github",
        "colab_type": "text"
      },
      "source": [
        "<a href=\"https://colab.research.google.com/github/sareenv/304CEM-Authentication/blob/master/Measurement.ipynb\" target=\"_parent\"><img src=\"https://colab.research.google.com/assets/colab-badge.svg\" alt=\"Open In Colab\"/></a>"
      ]
    },
    {
      "cell_type": "markdown",
      "metadata": {
        "id": "nv9crfQK4ZAT"
      },
      "source": [
        "Required Libraries"
      ]
    },
    {
      "cell_type": "code",
      "execution_count": null,
      "metadata": {
        "colab": {
          "base_uri": "https://localhost:8080/"
        },
        "id": "YLqGiYIFHTpu",
        "outputId": "91f43008-1f48-488d-a174-643f0b6bb20b"
      },
      "outputs": [
        {
          "output_type": "stream",
          "name": "stdout",
          "text": [
            "Looking in indexes: https://pypi.org/simple, https://us-python.pkg.dev/colab-wheels/public/simple/\n",
            "Collecting forex_python\n",
            "  Downloading forex_python-1.8-py3-none-any.whl (8.2 kB)\n",
            "Collecting simplejson\n",
            "  Downloading simplejson-3.17.6-cp37-cp37m-manylinux_2_5_x86_64.manylinux1_x86_64.manylinux_2_12_x86_64.manylinux2010_x86_64.whl (130 kB)\n",
            "\u001b[K     |████████████████████████████████| 130 kB 6.9 MB/s \n",
            "\u001b[?25hRequirement already satisfied: requests in /usr/local/lib/python3.7/dist-packages (from forex_python) (2.23.0)\n",
            "Requirement already satisfied: certifi>=2017.4.17 in /usr/local/lib/python3.7/dist-packages (from requests->forex_python) (2022.6.15)\n",
            "Requirement already satisfied: chardet<4,>=3.0.2 in /usr/local/lib/python3.7/dist-packages (from requests->forex_python) (3.0.4)\n",
            "Requirement already satisfied: urllib3!=1.25.0,!=1.25.1,<1.26,>=1.21.1 in /usr/local/lib/python3.7/dist-packages (from requests->forex_python) (1.24.3)\n",
            "Requirement already satisfied: idna<3,>=2.5 in /usr/local/lib/python3.7/dist-packages (from requests->forex_python) (2.10)\n",
            "Installing collected packages: simplejson, forex-python\n",
            "Successfully installed forex-python-1.8 simplejson-3.17.6\n"
          ]
        }
      ],
      "source": [
        "!pip install forex_python"
      ]
    },
    {
      "cell_type": "code",
      "execution_count": 2,
      "metadata": {
        "id": "8BP3wdQW4Bra"
      },
      "outputs": [],
      "source": [
        "# from forex_python.converter import CurrencyRates\n",
        "import os \n",
        "import numpy as np\n",
        "import pandas as pd\n",
        "import matplotlib.pyplot as plt\n",
        "import seaborn as sns\n",
        "import math\n",
        "import requests\n",
        "from IPython.display import display # to dispay the contents of the data frames."
      ]
    },
    {
      "cell_type": "markdown",
      "metadata": {
        "id": "lvqpgZ3j4ecG"
      },
      "source": [
        "Change the Path"
      ]
    },
    {
      "cell_type": "code",
      "execution_count": null,
      "metadata": {
        "colab": {
          "base_uri": "https://localhost:8080/"
        },
        "id": "Xj13EnSj_Xrv",
        "outputId": "f3160094-b307-49f2-baea-ea123c86cc5e"
      },
      "outputs": [
        {
          "output_type": "stream",
          "name": "stdout",
          "text": [
            "Mounted at /content/drive\n"
          ]
        }
      ],
      "source": [
        "from google.colab import drive\n",
        "drive.mount('/content/drive')\n",
        "os.chdir(\"/content/drive/MyDrive/MEASUREMENT-PROJECT/DATA\")"
      ]
    },
    {
      "cell_type": "code",
      "execution_count": null,
      "metadata": {
        "id": "MXCz9z6zWkO3"
      },
      "outputs": [],
      "source": [
        "df_restuarant = pd.read_csv('test.csv')"
      ]
    },
    {
      "cell_type": "code",
      "execution_count": null,
      "metadata": {
        "id": "2334byHiXNAx",
        "colab": {
          "base_uri": "https://localhost:8080/"
        },
        "outputId": "c4789d19-537a-4417-887e-9617432331ae"
      },
      "outputs": [
        {
          "output_type": "stream",
          "name": "stdout",
          "text": [
            "The original value of the dataset is 6596\n"
          ]
        }
      ],
      "source": [
        "original_size = df_restuarant.shape[0]\n",
        "print(\"The original value of the dataset is {}\".format(original_size))"
      ]
    },
    {
      "cell_type": "code",
      "execution_count": null,
      "metadata": {
        "id": "JzrBxRdbcb6t"
      },
      "outputs": [],
      "source": [
        "df_modified = df_restuarant.drop([\"PhoneNumber\"], axis=1)\n",
        "df_modified = df_modified.drop([\"Url\"], axis=1)\n",
        "df_modified = df_modified.drop([\"WebsiteUrl\"], axis=1)"
      ]
    },
    {
      "cell_type": "code",
      "execution_count": null,
      "metadata": {
        "id": "4fEaTJoe-wJQ"
      },
      "outputs": [],
      "source": [
        "df_modified[\"Cuisine\"] = df_modified[\"Cuisine\"].str.split(',')\n",
        "df_modified = df_modified.apply(pd.Series.explode)"
      ]
    },
    {
      "cell_type": "code",
      "execution_count": null,
      "metadata": {
        "id": "W2eufMkGdDvG",
        "colab": {
          "base_uri": "https://localhost:8080/",
          "height": 206
        },
        "outputId": "64bfa8d5-34e6-497a-c1b2-12a627900fb7"
      },
      "outputs": [
        {
          "output_type": "display_data",
          "data": {
            "text/plain": [
              "            Name                                          Address  \\\n",
              "0  Inter Scaldes      Zandweg 2, Kruiningen, 4416 NA, Netherlands   \n",
              "1     De Librije    Spinhuisplein 1, Zwolle, 8011 ZZ, Netherlands   \n",
              "2  Hof van Cleve     Riemegemstraat 1, Kruishoutem, 9770, Belgium   \n",
              "3          Boury  Rumbeeksesteenweg 300, Roeselare, 8800, Belgium   \n",
              "4          Zilte    Hanzestedenplaats 5, Antwerpen, 2000, Belgium   \n",
              "\n",
              "      Location MinPrice MaxPrice Currency          Cuisine  Longitude  \\\n",
              "0   Kruiningen      165      380      EUR   Modern Cuisine   4.024108   \n",
              "1       Zwolle      232      232      EUR   Modern Cuisine   6.098018   \n",
              "2  Kruishoutem      295      410      EUR         Creative   3.509865   \n",
              "3    Roeselare      100      160      EUR  Creative French   3.140398   \n",
              "4    Antwerpen      169      330      EUR         Creative   4.404754   \n",
              "\n",
              "    Latitude             Award  \n",
              "0  51.457161  3 MICHELIN Stars  \n",
              "1  52.515364  3 MICHELIN Stars  \n",
              "2  50.903950  3 MICHELIN Stars  \n",
              "3  50.937447  3 MICHELIN Stars  \n",
              "4  51.228828  3 MICHELIN Stars  "
            ],
            "text/html": [
              "\n",
              "  <div id=\"df-55fd0fce-25de-4727-9b21-4d6c2aded0f6\">\n",
              "    <div class=\"colab-df-container\">\n",
              "      <div>\n",
              "<style scoped>\n",
              "    .dataframe tbody tr th:only-of-type {\n",
              "        vertical-align: middle;\n",
              "    }\n",
              "\n",
              "    .dataframe tbody tr th {\n",
              "        vertical-align: top;\n",
              "    }\n",
              "\n",
              "    .dataframe thead th {\n",
              "        text-align: right;\n",
              "    }\n",
              "</style>\n",
              "<table border=\"1\" class=\"dataframe\">\n",
              "  <thead>\n",
              "    <tr style=\"text-align: right;\">\n",
              "      <th></th>\n",
              "      <th>Name</th>\n",
              "      <th>Address</th>\n",
              "      <th>Location</th>\n",
              "      <th>MinPrice</th>\n",
              "      <th>MaxPrice</th>\n",
              "      <th>Currency</th>\n",
              "      <th>Cuisine</th>\n",
              "      <th>Longitude</th>\n",
              "      <th>Latitude</th>\n",
              "      <th>Award</th>\n",
              "    </tr>\n",
              "  </thead>\n",
              "  <tbody>\n",
              "    <tr>\n",
              "      <th>0</th>\n",
              "      <td>Inter Scaldes</td>\n",
              "      <td>Zandweg 2, Kruiningen, 4416 NA, Netherlands</td>\n",
              "      <td>Kruiningen</td>\n",
              "      <td>165</td>\n",
              "      <td>380</td>\n",
              "      <td>EUR</td>\n",
              "      <td>Modern Cuisine</td>\n",
              "      <td>4.024108</td>\n",
              "      <td>51.457161</td>\n",
              "      <td>3 MICHELIN Stars</td>\n",
              "    </tr>\n",
              "    <tr>\n",
              "      <th>1</th>\n",
              "      <td>De Librije</td>\n",
              "      <td>Spinhuisplein 1, Zwolle, 8011 ZZ, Netherlands</td>\n",
              "      <td>Zwolle</td>\n",
              "      <td>232</td>\n",
              "      <td>232</td>\n",
              "      <td>EUR</td>\n",
              "      <td>Modern Cuisine</td>\n",
              "      <td>6.098018</td>\n",
              "      <td>52.515364</td>\n",
              "      <td>3 MICHELIN Stars</td>\n",
              "    </tr>\n",
              "    <tr>\n",
              "      <th>2</th>\n",
              "      <td>Hof van Cleve</td>\n",
              "      <td>Riemegemstraat 1, Kruishoutem, 9770, Belgium</td>\n",
              "      <td>Kruishoutem</td>\n",
              "      <td>295</td>\n",
              "      <td>410</td>\n",
              "      <td>EUR</td>\n",
              "      <td>Creative</td>\n",
              "      <td>3.509865</td>\n",
              "      <td>50.903950</td>\n",
              "      <td>3 MICHELIN Stars</td>\n",
              "    </tr>\n",
              "    <tr>\n",
              "      <th>3</th>\n",
              "      <td>Boury</td>\n",
              "      <td>Rumbeeksesteenweg 300, Roeselare, 8800, Belgium</td>\n",
              "      <td>Roeselare</td>\n",
              "      <td>100</td>\n",
              "      <td>160</td>\n",
              "      <td>EUR</td>\n",
              "      <td>Creative French</td>\n",
              "      <td>3.140398</td>\n",
              "      <td>50.937447</td>\n",
              "      <td>3 MICHELIN Stars</td>\n",
              "    </tr>\n",
              "    <tr>\n",
              "      <th>4</th>\n",
              "      <td>Zilte</td>\n",
              "      <td>Hanzestedenplaats 5, Antwerpen, 2000, Belgium</td>\n",
              "      <td>Antwerpen</td>\n",
              "      <td>169</td>\n",
              "      <td>330</td>\n",
              "      <td>EUR</td>\n",
              "      <td>Creative</td>\n",
              "      <td>4.404754</td>\n",
              "      <td>51.228828</td>\n",
              "      <td>3 MICHELIN Stars</td>\n",
              "    </tr>\n",
              "  </tbody>\n",
              "</table>\n",
              "</div>\n",
              "      <button class=\"colab-df-convert\" onclick=\"convertToInteractive('df-55fd0fce-25de-4727-9b21-4d6c2aded0f6')\"\n",
              "              title=\"Convert this dataframe to an interactive table.\"\n",
              "              style=\"display:none;\">\n",
              "        \n",
              "  <svg xmlns=\"http://www.w3.org/2000/svg\" height=\"24px\"viewBox=\"0 0 24 24\"\n",
              "       width=\"24px\">\n",
              "    <path d=\"M0 0h24v24H0V0z\" fill=\"none\"/>\n",
              "    <path d=\"M18.56 5.44l.94 2.06.94-2.06 2.06-.94-2.06-.94-.94-2.06-.94 2.06-2.06.94zm-11 1L8.5 8.5l.94-2.06 2.06-.94-2.06-.94L8.5 2.5l-.94 2.06-2.06.94zm10 10l.94 2.06.94-2.06 2.06-.94-2.06-.94-.94-2.06-.94 2.06-2.06.94z\"/><path d=\"M17.41 7.96l-1.37-1.37c-.4-.4-.92-.59-1.43-.59-.52 0-1.04.2-1.43.59L10.3 9.45l-7.72 7.72c-.78.78-.78 2.05 0 2.83L4 21.41c.39.39.9.59 1.41.59.51 0 1.02-.2 1.41-.59l7.78-7.78 2.81-2.81c.8-.78.8-2.07 0-2.86zM5.41 20L4 18.59l7.72-7.72 1.47 1.35L5.41 20z\"/>\n",
              "  </svg>\n",
              "      </button>\n",
              "      \n",
              "  <style>\n",
              "    .colab-df-container {\n",
              "      display:flex;\n",
              "      flex-wrap:wrap;\n",
              "      gap: 12px;\n",
              "    }\n",
              "\n",
              "    .colab-df-convert {\n",
              "      background-color: #E8F0FE;\n",
              "      border: none;\n",
              "      border-radius: 50%;\n",
              "      cursor: pointer;\n",
              "      display: none;\n",
              "      fill: #1967D2;\n",
              "      height: 32px;\n",
              "      padding: 0 0 0 0;\n",
              "      width: 32px;\n",
              "    }\n",
              "\n",
              "    .colab-df-convert:hover {\n",
              "      background-color: #E2EBFA;\n",
              "      box-shadow: 0px 1px 2px rgba(60, 64, 67, 0.3), 0px 1px 3px 1px rgba(60, 64, 67, 0.15);\n",
              "      fill: #174EA6;\n",
              "    }\n",
              "\n",
              "    [theme=dark] .colab-df-convert {\n",
              "      background-color: #3B4455;\n",
              "      fill: #D2E3FC;\n",
              "    }\n",
              "\n",
              "    [theme=dark] .colab-df-convert:hover {\n",
              "      background-color: #434B5C;\n",
              "      box-shadow: 0px 1px 3px 1px rgba(0, 0, 0, 0.15);\n",
              "      filter: drop-shadow(0px 1px 2px rgba(0, 0, 0, 0.3));\n",
              "      fill: #FFFFFF;\n",
              "    }\n",
              "  </style>\n",
              "\n",
              "      <script>\n",
              "        const buttonEl =\n",
              "          document.querySelector('#df-55fd0fce-25de-4727-9b21-4d6c2aded0f6 button.colab-df-convert');\n",
              "        buttonEl.style.display =\n",
              "          google.colab.kernel.accessAllowed ? 'block' : 'none';\n",
              "\n",
              "        async function convertToInteractive(key) {\n",
              "          const element = document.querySelector('#df-55fd0fce-25de-4727-9b21-4d6c2aded0f6');\n",
              "          const dataTable =\n",
              "            await google.colab.kernel.invokeFunction('convertToInteractive',\n",
              "                                                     [key], {});\n",
              "          if (!dataTable) return;\n",
              "\n",
              "          const docLinkHtml = 'Like what you see? Visit the ' +\n",
              "            '<a target=\"_blank\" href=https://colab.research.google.com/notebooks/data_table.ipynb>data table notebook</a>'\n",
              "            + ' to learn more about interactive tables.';\n",
              "          element.innerHTML = '';\n",
              "          dataTable['output_type'] = 'display_data';\n",
              "          await google.colab.output.renderOutput(dataTable, element);\n",
              "          const docLink = document.createElement('div');\n",
              "          docLink.innerHTML = docLinkHtml;\n",
              "          element.appendChild(docLink);\n",
              "        }\n",
              "      </script>\n",
              "    </div>\n",
              "  </div>\n",
              "  "
            ]
          },
          "metadata": {}
        }
      ],
      "source": [
        "display(df_modified.head())"
      ]
    },
    {
      "cell_type": "code",
      "execution_count": null,
      "metadata": {
        "id": "7qkN4JWNFCBu",
        "colab": {
          "base_uri": "https://localhost:8080/"
        },
        "outputId": "3a1483c2-fb68-4e6d-d3a4-e1851990b98b"
      },
      "outputs": [
        {
          "output_type": "stream",
          "name": "stdout",
          "text": [
            "Total number of records are 8353\n"
          ]
        }
      ],
      "source": [
        "total_records = df_modified.shape[0]\n",
        "print(\"Total number of records are {}\".format(total_records))"
      ]
    },
    {
      "cell_type": "code",
      "execution_count": null,
      "metadata": {
        "id": "EghV8Cc_olth"
      },
      "outputs": [],
      "source": [
        "def dataSetSplitter(df_local,dates):\n",
        "  df_local[\"ConversionDate\"]=np.nan\n",
        "  df_local = df_local.sample(frac=1).reset_index(drop=True)\n",
        "  # splitting into multiple df\n",
        "  results = np.array_split(df_local, len(dates)) \n",
        "  for index, result in enumerate(results):\n",
        "    result[\"ConversionDate\"] = pd.to_datetime(dates[index])\n",
        "  return results\n",
        "\n",
        "# date format - day/month/yyyy\n",
        "df_modified = pd.concat(dataSetSplitter(df_modified,['02/02/2022', \n",
        "                                           '18/04/2022',\n",
        "                                           '10/03/2022', \n",
        "                                           '20/07/2022'\n",
        "                                           ])\n",
        "                            )"
      ]
    },
    {
      "cell_type": "markdown",
      "source": [
        "**Divide into different datasets**"
      ],
      "metadata": {
        "id": "e-2OonUIml0e"
      }
    },
    {
      "cell_type": "code",
      "source": [
        "result_ds = dataSetSplitter(df_modified,['02/02/2022', \n",
        "                                           '18/04/2022',\n",
        "                                           '10/03/2022', \n",
        "                                           '20/07/2022'\n",
        "                                           ])\n",
        "for ds_index in range(0,len(result_ds)):\n",
        "  name = \"result-\" + str(ds_index) + \".csv\"\n",
        "  result_ds[ds_index].to_csv(name)"
      ],
      "metadata": {
        "id": "xcotXGG1lNOA"
      },
      "execution_count": null,
      "outputs": []
    },
    {
      "cell_type": "code",
      "execution_count": null,
      "metadata": {
        "id": "OjcoCzgKdo3k"
      },
      "outputs": [],
      "source": [
        "minPriceMissingCondition = pd.isnull(df_modified[\"MinPrice\"])\n",
        "maxPriceMissingCondition = pd.isnull(df_modified[\"MaxPrice\"])\n",
        "currencyMissingCondition = pd.isnull(df_modified[\"Currency\"])\n",
        "condition = minPriceMissingCondition | maxPriceMissingCondition | currencyMissingCondition\n",
        "missing_records_df = df_modified[condition]"
      ]
    },
    {
      "cell_type": "code",
      "execution_count": null,
      "metadata": {
        "id": "bSRUYba9nSEs",
        "colab": {
          "base_uri": "https://localhost:8080/"
        },
        "outputId": "734cf9e9-9412-4fc5-8d16-d8019e911434"
      },
      "outputs": [
        {
          "output_type": "execute_result",
          "data": {
            "text/plain": [
              "8353"
            ]
          },
          "metadata": {},
          "execution_count": 17
        }
      ],
      "source": [
        "df_modified.shape[0]"
      ]
    },
    {
      "cell_type": "code",
      "execution_count": null,
      "metadata": {
        "id": "SKOhvLBYmp79"
      },
      "outputs": [],
      "source": [
        "def completeness():\n",
        "  non_missing_values = df_modified.shape[0] - missing_records_df.shape[0]\n",
        "  completeness = non_missing_values / df_modified.shape[0]\n",
        "  return completeness"
      ]
    },
    {
      "cell_type": "code",
      "execution_count": null,
      "metadata": {
        "id": "JlAVuZsEhrhp",
        "colab": {
          "base_uri": "https://localhost:8080/"
        },
        "outputId": "1a22b42c-0b2f-42e7-b4c2-468293ce0020"
      },
      "outputs": [
        {
          "output_type": "execute_result",
          "data": {
            "text/plain": [
              "0.9990422602657728"
            ]
          },
          "metadata": {},
          "execution_count": 19
        }
      ],
      "source": [
        "minPriceMean = df_modified[condition == False][\"MinPrice\"].apply(lambda x: x.replace(',', '')).apply(lambda x: float(x)).mean()\n",
        "maxPriceMean = df_modified[condition == False][\"MaxPrice\"].apply(lambda x: x.replace(',', '')).apply(lambda x: float(x)).mean()\n",
        "completeness()"
      ]
    },
    {
      "cell_type": "markdown",
      "metadata": {
        "id": "KsaTvcrPnf6q"
      },
      "source": [
        "**Completeness After Preprocessing**"
      ]
    },
    {
      "cell_type": "code",
      "execution_count": null,
      "metadata": {
        "id": "Zhtmv6hBpYBY"
      },
      "outputs": [],
      "source": [
        "df_modified.fillna({\"MinPrice\": df_modified[\"MinPrice\"].mode()[0], \n",
        "                    \"MaxPrice\": df_modified[\"MaxPrice\"].mode()[0],\n",
        "                    \"Currency\": \"EUR\"\n",
        "                    }, inplace = True)"
      ]
    },
    {
      "cell_type": "code",
      "execution_count": null,
      "metadata": {
        "id": "XUQLS-_yEKha",
        "colab": {
          "base_uri": "https://localhost:8080/",
          "height": 396
        },
        "outputId": "7ed7f9f4-4704-4df7-ae71-75835ee76d0d"
      },
      "outputs": [
        {
          "output_type": "execute_result",
          "data": {
            "text/plain": [
              "                            Name  \\\n",
              "19                      Mott St.   \n",
              "1742             Girl & The Goat   \n",
              "3037               Irma la Douce   \n",
              "4245                    Mott St.   \n",
              "4844                  Thai House   \n",
              "5719  Garlic & Chives by Kristin   \n",
              "6394  Garlic & Chives by Kristin   \n",
              "6853             Girl & The Goat   \n",
              "\n",
              "                                                Address      Location  \\\n",
              "19            1401 N. Ashland Ave., Chicago, 60622, USA       Chicago   \n",
              "1742           809 W. Randolph St., Chicago, 60607, USA       Chicago   \n",
              "3037       Potsdamer Straße 102, Berlin, 10785, Germany        Berlin   \n",
              "4245          1401 N. Ashland Ave., Chicago, 60622, USA       Chicago   \n",
              "4844                 254 Rose St., Danville, 94526, USA      Danville   \n",
              "5719  9892 Westminster Blvd., Ste.311, Garden Grove,...  Garden Grove   \n",
              "6394  9892 Westminster Blvd., Ste.311, Garden Grove,...  Garden Grove   \n",
              "6853           809 W. Randolph St., Chicago, 60607, USA       Chicago   \n",
              "\n",
              "     MinPrice MaxPrice Currency            Cuisine   Longitude   Latitude  \\\n",
              "19         50       50      EUR             Fusion  -87.667465  41.907110   \n",
              "1742       50       50      EUR           American  -87.647850  41.884180   \n",
              "3037       50       50      EUR      Modern French   13.363858  52.501403   \n",
              "4245       50       50      EUR       Contemporary  -87.667465  41.907110   \n",
              "4844       50       50      EUR               Thai -122.000180  37.823370   \n",
              "5719       50       50      EUR   South East Asian -117.955380  33.759464   \n",
              "6394       50       50      EUR         Vietnamese -117.955380  33.759464   \n",
              "6853       50       50      EUR       Contemporary  -87.647850  41.884180   \n",
              "\n",
              "                Award  ConversionDate  \n",
              "19       Bib Gourmand             NaN  \n",
              "1742     Bib Gourmand             NaN  \n",
              "3037  1 MICHELIN Star             NaN  \n",
              "4245     Bib Gourmand             NaN  \n",
              "4844     Bib Gourmand             NaN  \n",
              "5719     Bib Gourmand             NaN  \n",
              "6394     Bib Gourmand             NaN  \n",
              "6853     Bib Gourmand             NaN  "
            ],
            "text/html": [
              "\n",
              "  <div id=\"df-2bfc6124-ea4f-4b01-87db-3c93749fe9b6\">\n",
              "    <div class=\"colab-df-container\">\n",
              "      <div>\n",
              "<style scoped>\n",
              "    .dataframe tbody tr th:only-of-type {\n",
              "        vertical-align: middle;\n",
              "    }\n",
              "\n",
              "    .dataframe tbody tr th {\n",
              "        vertical-align: top;\n",
              "    }\n",
              "\n",
              "    .dataframe thead th {\n",
              "        text-align: right;\n",
              "    }\n",
              "</style>\n",
              "<table border=\"1\" class=\"dataframe\">\n",
              "  <thead>\n",
              "    <tr style=\"text-align: right;\">\n",
              "      <th></th>\n",
              "      <th>Name</th>\n",
              "      <th>Address</th>\n",
              "      <th>Location</th>\n",
              "      <th>MinPrice</th>\n",
              "      <th>MaxPrice</th>\n",
              "      <th>Currency</th>\n",
              "      <th>Cuisine</th>\n",
              "      <th>Longitude</th>\n",
              "      <th>Latitude</th>\n",
              "      <th>Award</th>\n",
              "      <th>ConversionDate</th>\n",
              "    </tr>\n",
              "  </thead>\n",
              "  <tbody>\n",
              "    <tr>\n",
              "      <th>19</th>\n",
              "      <td>Mott St.</td>\n",
              "      <td>1401 N. Ashland Ave., Chicago, 60622, USA</td>\n",
              "      <td>Chicago</td>\n",
              "      <td>50</td>\n",
              "      <td>50</td>\n",
              "      <td>EUR</td>\n",
              "      <td>Fusion</td>\n",
              "      <td>-87.667465</td>\n",
              "      <td>41.907110</td>\n",
              "      <td>Bib Gourmand</td>\n",
              "      <td>NaN</td>\n",
              "    </tr>\n",
              "    <tr>\n",
              "      <th>1742</th>\n",
              "      <td>Girl &amp; The Goat</td>\n",
              "      <td>809 W. Randolph St., Chicago, 60607, USA</td>\n",
              "      <td>Chicago</td>\n",
              "      <td>50</td>\n",
              "      <td>50</td>\n",
              "      <td>EUR</td>\n",
              "      <td>American</td>\n",
              "      <td>-87.647850</td>\n",
              "      <td>41.884180</td>\n",
              "      <td>Bib Gourmand</td>\n",
              "      <td>NaN</td>\n",
              "    </tr>\n",
              "    <tr>\n",
              "      <th>3037</th>\n",
              "      <td>Irma la Douce</td>\n",
              "      <td>Potsdamer Straße 102, Berlin, 10785, Germany</td>\n",
              "      <td>Berlin</td>\n",
              "      <td>50</td>\n",
              "      <td>50</td>\n",
              "      <td>EUR</td>\n",
              "      <td>Modern French</td>\n",
              "      <td>13.363858</td>\n",
              "      <td>52.501403</td>\n",
              "      <td>1 MICHELIN Star</td>\n",
              "      <td>NaN</td>\n",
              "    </tr>\n",
              "    <tr>\n",
              "      <th>4245</th>\n",
              "      <td>Mott St.</td>\n",
              "      <td>1401 N. Ashland Ave., Chicago, 60622, USA</td>\n",
              "      <td>Chicago</td>\n",
              "      <td>50</td>\n",
              "      <td>50</td>\n",
              "      <td>EUR</td>\n",
              "      <td>Contemporary</td>\n",
              "      <td>-87.667465</td>\n",
              "      <td>41.907110</td>\n",
              "      <td>Bib Gourmand</td>\n",
              "      <td>NaN</td>\n",
              "    </tr>\n",
              "    <tr>\n",
              "      <th>4844</th>\n",
              "      <td>Thai House</td>\n",
              "      <td>254 Rose St., Danville, 94526, USA</td>\n",
              "      <td>Danville</td>\n",
              "      <td>50</td>\n",
              "      <td>50</td>\n",
              "      <td>EUR</td>\n",
              "      <td>Thai</td>\n",
              "      <td>-122.000180</td>\n",
              "      <td>37.823370</td>\n",
              "      <td>Bib Gourmand</td>\n",
              "      <td>NaN</td>\n",
              "    </tr>\n",
              "    <tr>\n",
              "      <th>5719</th>\n",
              "      <td>Garlic &amp; Chives by Kristin</td>\n",
              "      <td>9892 Westminster Blvd., Ste.311, Garden Grove,...</td>\n",
              "      <td>Garden Grove</td>\n",
              "      <td>50</td>\n",
              "      <td>50</td>\n",
              "      <td>EUR</td>\n",
              "      <td>South East Asian</td>\n",
              "      <td>-117.955380</td>\n",
              "      <td>33.759464</td>\n",
              "      <td>Bib Gourmand</td>\n",
              "      <td>NaN</td>\n",
              "    </tr>\n",
              "    <tr>\n",
              "      <th>6394</th>\n",
              "      <td>Garlic &amp; Chives by Kristin</td>\n",
              "      <td>9892 Westminster Blvd., Ste.311, Garden Grove,...</td>\n",
              "      <td>Garden Grove</td>\n",
              "      <td>50</td>\n",
              "      <td>50</td>\n",
              "      <td>EUR</td>\n",
              "      <td>Vietnamese</td>\n",
              "      <td>-117.955380</td>\n",
              "      <td>33.759464</td>\n",
              "      <td>Bib Gourmand</td>\n",
              "      <td>NaN</td>\n",
              "    </tr>\n",
              "    <tr>\n",
              "      <th>6853</th>\n",
              "      <td>Girl &amp; The Goat</td>\n",
              "      <td>809 W. Randolph St., Chicago, 60607, USA</td>\n",
              "      <td>Chicago</td>\n",
              "      <td>50</td>\n",
              "      <td>50</td>\n",
              "      <td>EUR</td>\n",
              "      <td>Contemporary</td>\n",
              "      <td>-87.647850</td>\n",
              "      <td>41.884180</td>\n",
              "      <td>Bib Gourmand</td>\n",
              "      <td>NaN</td>\n",
              "    </tr>\n",
              "  </tbody>\n",
              "</table>\n",
              "</div>\n",
              "      <button class=\"colab-df-convert\" onclick=\"convertToInteractive('df-2bfc6124-ea4f-4b01-87db-3c93749fe9b6')\"\n",
              "              title=\"Convert this dataframe to an interactive table.\"\n",
              "              style=\"display:none;\">\n",
              "        \n",
              "  <svg xmlns=\"http://www.w3.org/2000/svg\" height=\"24px\"viewBox=\"0 0 24 24\"\n",
              "       width=\"24px\">\n",
              "    <path d=\"M0 0h24v24H0V0z\" fill=\"none\"/>\n",
              "    <path d=\"M18.56 5.44l.94 2.06.94-2.06 2.06-.94-2.06-.94-.94-2.06-.94 2.06-2.06.94zm-11 1L8.5 8.5l.94-2.06 2.06-.94-2.06-.94L8.5 2.5l-.94 2.06-2.06.94zm10 10l.94 2.06.94-2.06 2.06-.94-2.06-.94-.94-2.06-.94 2.06-2.06.94z\"/><path d=\"M17.41 7.96l-1.37-1.37c-.4-.4-.92-.59-1.43-.59-.52 0-1.04.2-1.43.59L10.3 9.45l-7.72 7.72c-.78.78-.78 2.05 0 2.83L4 21.41c.39.39.9.59 1.41.59.51 0 1.02-.2 1.41-.59l7.78-7.78 2.81-2.81c.8-.78.8-2.07 0-2.86zM5.41 20L4 18.59l7.72-7.72 1.47 1.35L5.41 20z\"/>\n",
              "  </svg>\n",
              "      </button>\n",
              "      \n",
              "  <style>\n",
              "    .colab-df-container {\n",
              "      display:flex;\n",
              "      flex-wrap:wrap;\n",
              "      gap: 12px;\n",
              "    }\n",
              "\n",
              "    .colab-df-convert {\n",
              "      background-color: #E8F0FE;\n",
              "      border: none;\n",
              "      border-radius: 50%;\n",
              "      cursor: pointer;\n",
              "      display: none;\n",
              "      fill: #1967D2;\n",
              "      height: 32px;\n",
              "      padding: 0 0 0 0;\n",
              "      width: 32px;\n",
              "    }\n",
              "\n",
              "    .colab-df-convert:hover {\n",
              "      background-color: #E2EBFA;\n",
              "      box-shadow: 0px 1px 2px rgba(60, 64, 67, 0.3), 0px 1px 3px 1px rgba(60, 64, 67, 0.15);\n",
              "      fill: #174EA6;\n",
              "    }\n",
              "\n",
              "    [theme=dark] .colab-df-convert {\n",
              "      background-color: #3B4455;\n",
              "      fill: #D2E3FC;\n",
              "    }\n",
              "\n",
              "    [theme=dark] .colab-df-convert:hover {\n",
              "      background-color: #434B5C;\n",
              "      box-shadow: 0px 1px 3px 1px rgba(0, 0, 0, 0.15);\n",
              "      filter: drop-shadow(0px 1px 2px rgba(0, 0, 0, 0.3));\n",
              "      fill: #FFFFFF;\n",
              "    }\n",
              "  </style>\n",
              "\n",
              "      <script>\n",
              "        const buttonEl =\n",
              "          document.querySelector('#df-2bfc6124-ea4f-4b01-87db-3c93749fe9b6 button.colab-df-convert');\n",
              "        buttonEl.style.display =\n",
              "          google.colab.kernel.accessAllowed ? 'block' : 'none';\n",
              "\n",
              "        async function convertToInteractive(key) {\n",
              "          const element = document.querySelector('#df-2bfc6124-ea4f-4b01-87db-3c93749fe9b6');\n",
              "          const dataTable =\n",
              "            await google.colab.kernel.invokeFunction('convertToInteractive',\n",
              "                                                     [key], {});\n",
              "          if (!dataTable) return;\n",
              "\n",
              "          const docLinkHtml = 'Like what you see? Visit the ' +\n",
              "            '<a target=\"_blank\" href=https://colab.research.google.com/notebooks/data_table.ipynb>data table notebook</a>'\n",
              "            + ' to learn more about interactive tables.';\n",
              "          element.innerHTML = '';\n",
              "          dataTable['output_type'] = 'display_data';\n",
              "          await google.colab.output.renderOutput(dataTable, element);\n",
              "          const docLink = document.createElement('div');\n",
              "          docLink.innerHTML = docLinkHtml;\n",
              "          element.appendChild(docLink);\n",
              "        }\n",
              "      </script>\n",
              "    </div>\n",
              "  </div>\n",
              "  "
            ]
          },
          "metadata": {},
          "execution_count": 21
        }
      ],
      "source": [
        "# fixed values after the pre-processing.\n",
        "df_modified[condition]"
      ]
    },
    {
      "cell_type": "code",
      "execution_count": null,
      "metadata": {
        "id": "Hf5RiFANsc_S"
      },
      "outputs": [],
      "source": [
        "minPriceMissingCondition = pd.isnull(df_modified[\"MinPrice\"])\n",
        "maxPriceMissingCondition = pd.isnull(df_modified[\"MaxPrice\"])\n",
        "currencyMissingCondition = pd.isnull(df_modified[\"Currency\"])\n",
        "condition = minPriceMissingCondition | maxPriceMissingCondition | currencyMissingCondition\n",
        "missing_records_df = df_modified[condition]"
      ]
    },
    {
      "cell_type": "code",
      "execution_count": null,
      "metadata": {
        "id": "EvvnP10crpF5",
        "colab": {
          "base_uri": "https://localhost:8080/"
        },
        "outputId": "cd43207a-0d8b-479b-f51d-92970ec01485"
      },
      "outputs": [
        {
          "output_type": "execute_result",
          "data": {
            "text/plain": [
              "1.0"
            ]
          },
          "metadata": {},
          "execution_count": 23
        }
      ],
      "source": [
        "# after the pre-processing\n",
        "completeness()"
      ]
    },
    {
      "cell_type": "code",
      "execution_count": null,
      "metadata": {
        "id": "WMAJH_wby6Nw"
      },
      "outputs": [],
      "source": [
        "df_modified.to_csv('result.csv')"
      ]
    },
    {
      "cell_type": "markdown",
      "metadata": {
        "id": "Pj7BAKhT4HC2"
      },
      "source": [
        "**Currency Conversion**"
      ]
    },
    {
      "cell_type": "code",
      "execution_count": null,
      "metadata": {
        "id": "DmImuXiu4QQO"
      },
      "outputs": [],
      "source": [
        "# c = CurrencyRates()\n",
        "# unique_dates = df_modified[\"ConversionDate\"].unique()\n",
        "# min_pirce = df_modified[\"MinPrice\"].values\n",
        "# min_pirce_currency = df_modified[\"Currency\"].values\n",
        "# converted_minimum_values = []\n",
        "\n",
        "# def try_convert(amount, currency):\n",
        "#     success = False\n",
        "#     while success == False:\n",
        "#         try:\n",
        "#             res = c.convert(base_cur=currency,dest_cur='EUR',amount=amount)\n",
        "#         except:\n",
        "#             #wait a while\n",
        "#             sleep(10)\n",
        "#     return res\n",
        "\n",
        "# for price_index in range(0, len(min_pirce)):\n",
        "#   processed = min_pirce[price_index].replace(\",\", \"\")\n",
        "#   if(min_pirce_currency[price_index] == \"EUR\"):\n",
        "#     continue\n",
        "  \n",
        "#   else:\n",
        "#     converted = try_convert(int(processed), min_pirce_currency[price_index])\n",
        "#     print(converted)\n",
        "#     converted_minimum_values.append(converted)\n"
      ]
    },
    {
      "cell_type": "code",
      "execution_count": 20,
      "metadata": {
        "id": "HBPn9unJBb6q"
      },
      "outputs": [],
      "source": [
        "# converted_minimum_values\n",
        "import numpy as np"
      ]
    },
    {
      "cell_type": "code",
      "source": [
        "data_set = [\"time 1\", \"time 2\", \"time 3\"]\n",
        "X_axis = np.arange(len(data_set))\n",
        "veracity = [0.37, 0.32, 0.373]\n",
        "vincularity = [0.999, 0.89, 0.75]\n",
        "validity = [0.4, 0.54, 0.23]\n",
        "\n",
        "width = 0.25\n",
        "\n",
        "plt.bar(X_axis, veracity, width, label = \"veracity\")\n",
        "plt.bar(X_axis + width, vincularity, width, label = \"viracity\")\n",
        "plt.bar(X_axis + width * 2, validity, width, label=\"validity\")\n",
        "\n",
        "plt.xticks(X_axis, data_set)\n",
        "plt.xlabel(\"Datasets\")\n",
        "plt.ylabel(\"Number of Students\")\n",
        "plt.title(\"Number of Students in each group\")\n",
        "plt.legend()\n",
        "plt.plot()"
      ],
      "metadata": {
        "colab": {
          "base_uri": "https://localhost:8080/",
          "height": 313
        },
        "id": "twfzriYTyda0",
        "outputId": "f037f6ce-259d-4d21-f2ac-fc95609aebbe"
      },
      "execution_count": 49,
      "outputs": [
        {
          "output_type": "execute_result",
          "data": {
            "text/plain": [
              "[]"
            ]
          },
          "metadata": {},
          "execution_count": 49
        },
        {
          "output_type": "display_data",
          "data": {
            "text/plain": [
              "<Figure size 432x288 with 1 Axes>"
            ],
            "image/png": "[encoded data removed]"
          },
          "metadata": {
            "needs_background": "light"
          }
        }
      ]
    },
    {
      "cell_type": "code",
      "source": [
        "+"
      ],
      "metadata": {
        "id": "RV1cfNm52Czc"
      },
      "execution_count": null,
      "outputs": []
    }
  ],
  "metadata": {
    "colab": {
      "collapsed_sections": [],
      "name": "Measurement.ipynb",
      "provenance": [],
      "include_colab_link": true
    },
    "kernelspec": {
      "display_name": "Python 3",
      "name": "python3"
    },
    "language_info": {
      "name": "python"
    }
  },
  "nbformat": 4,
  "nbformat_minor": 0
}